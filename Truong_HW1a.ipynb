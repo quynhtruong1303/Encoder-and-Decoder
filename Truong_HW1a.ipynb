{
 "cells": [
  {
   "cell_type": "code",
   "execution_count": 1,
   "id": "52dc7edf-59b3-4ff1-a4e0-c4f506f76d30",
   "metadata": {},
   "outputs": [],
   "source": [
    "def encoder(message, n):\n",
    "    '''\n",
    "    encodes a message so that each letter changes to the letter n position after the former in the English alphabet\n",
    "\n",
    "    Parameters\n",
    "    ----------\n",
    "    message: (string): a message entered by the user\n",
    "    n: (int): number of positions\n",
    "\n",
    "    Return\n",
    "    ------\n",
    "    (string): encoded message \n",
    "    '''\n",
    "\n",
    "    encoded_message = \"\"\n",
    "\n",
    "    # encodes each character; handles alphabet/numbers wrap-around\n",
    "    for char in message:\n",
    "        if char.isalpha():    ### alphabet\n",
    "            shift = n % 26    # ensures shift value is in the valid range\n",
    "            if char.islower():     # lowercase letters\n",
    "                shifted_char_pos = ord('a') + (ord(char) - ord('a') + shift) % 26\n",
    "            else:                  # uppercase letters\n",
    "                shifted_char_pos = ord('A') + (ord(char) - ord('A') + shift) % 26\n",
    "            encoded_message += chr(shifted_char_pos)\n",
    "        elif char.isdigit():  ### numbers\n",
    "            shift = n % 10\n",
    "            shifted_char_pos = ord('0') + (ord(char) - ord('0') + shift) % 10\n",
    "            encoded_message += chr(shifted_char_pos)\n",
    "        else:     ### special characters\n",
    "            encoded_message += char\n",
    "    return encoded_message          "
   ]
  },
  {
   "cell_type": "code",
   "execution_count": 2,
   "id": "fe960f35-ee79-4bfe-91d3-719e553c644a",
   "metadata": {},
   "outputs": [],
   "source": [
    "def decoder(encoded_message, n):\n",
    "    '''\n",
    "    decodes an encoded message to display the original message\n",
    "\n",
    "    Parameters\n",
    "    ----------\n",
    "    encoded_message: (string): already encoded message\n",
    "    n: (int): number of positions\n",
    "\n",
    "    Return\n",
    "    ------\n",
    "    (string): decoded message \n",
    "    '''\n",
    "\n",
    "    decoded_message = \"\"\n",
    "\n",
    "    # decodes each character; handles alphabet/numbers wrap-around\n",
    "    for char in encoded_message:\n",
    "        if char.isalpha():  ### alphabet \n",
    "            shift = n % 26     # ensures shift value is in the valid range\n",
    "            if char.islower():      # lowercase letters\n",
    "                original_char_pos = ord('a') + (ord(char) - ord('a') - shift) % 26\n",
    "            else:                   # uppercase letters\n",
    "                original_char_pos = ord('A') + (ord(char) - ord('A') - shift) % 26\n",
    "            decoded_message += chr(original_char_pos)\n",
    "        elif char.isdigit():        ### numbers\n",
    "            shift = n % 10    # ensures shift value is in the valid range\n",
    "            original_char_pos = ord('0') + (ord(char) - ord('0') - shift) % 10\n",
    "            decoded_message += chr(original_char_pos)\n",
    "        else:       ### special characters \n",
    "            decoded_message += char\n",
    "    return decoded_message"
   ]
  },
  {
   "cell_type": "code",
   "execution_count": null,
   "id": "3c7071b1-7c07-4e8b-ab1a-cd5db56d2ac0",
   "metadata": {},
   "outputs": [],
   "source": [
    "# user input\n",
    "shift = int(input(\"Please enter shift value (1-25): \"))\n",
    "message = input(\"Enter your message: \")\n",
    "print('\\n')\n",
    "# encode message\n",
    "encoded = encoder(message, shift)\n",
    "# decode message\n",
    "decoded = decoder(encoded, shift)\n",
    "\n",
    "print(f\"Input message: {message}\")\n",
    "print(f\"Encoded message: {encoded}\")\n",
    "print(f\"Decoded message: {decoded}\")"
   ]
  },
  {
   "cell_type": "markdown",
   "id": "0c52fb16-8965-4bd1-9b38-eaddec61e7dc",
   "metadata": {},
   "source": [
    "## Output"
   ]
  },
  {
   "cell_type": "markdown",
   "id": "a6f7075b-40ff-4fcd-8548-54b04a635e98",
   "metadata": {},
   "source": [
    "```\n",
    "Please enter shift value (1-25):  3\n",
    "Enter your message:  Hello, CSCI 3412 Students!\n",
    "\n",
    "Input message: Hello, CSCI 3412 Students!\n",
    "Encoded message: Khoor, FVFL 6745 Vwxghqwv!\n",
    "Decoded message: Hello, CSCI 3412 Students!\n",
    "```\n"
   ]
  }
 ],
 "metadata": {
  "kernelspec": {
   "display_name": "Python 3 (ipykernel)",
   "language": "python",
   "name": "python3"
  },
  "language_info": {
   "codemirror_mode": {
    "name": "ipython",
    "version": 3
   },
   "file_extension": ".py",
   "mimetype": "text/x-python",
   "name": "python",
   "nbconvert_exporter": "python",
   "pygments_lexer": "ipython3",
   "version": "3.12.4"
  }
 },
 "nbformat": 4,
 "nbformat_minor": 5
}
